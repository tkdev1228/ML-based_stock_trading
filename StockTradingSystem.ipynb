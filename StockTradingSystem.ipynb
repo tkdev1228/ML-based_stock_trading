{
 "cells": [
  {
   "cell_type": "code",
   "execution_count": 1,
   "id": "91a93c9e",
   "metadata": {},
   "outputs": [
    {
     "name": "stdout",
     "output_type": "stream",
     "text": [
      "Requirement already satisfied: yfinance in c:\\users\\takum\\appdata\\local\\programs\\python\\python310\\lib\\site-packages (0.2.31)\n",
      "Requirement already satisfied: pandas>=1.3.0 in c:\\users\\takum\\appdata\\roaming\\python\\python310\\site-packages (from yfinance) (1.4.2)\n",
      "Requirement already satisfied: numpy>=1.16.5 in c:\\users\\takum\\appdata\\local\\programs\\python\\python310\\lib\\site-packages (from yfinance) (1.24.4)\n",
      "Requirement already satisfied: requests>=2.31 in c:\\users\\takum\\appdata\\local\\programs\\python\\python310\\lib\\site-packages (from yfinance) (2.31.0)\n",
      "Requirement already satisfied: multitasking>=0.0.7 in c:\\users\\takum\\appdata\\local\\programs\\python\\python310\\lib\\site-packages (from yfinance) (0.0.11)\n",
      "Requirement already satisfied: lxml>=4.9.1 in c:\\users\\takum\\appdata\\local\\programs\\python\\python310\\lib\\site-packages (from yfinance) (4.9.3)\n",
      "Requirement already satisfied: appdirs>=1.4.4 in c:\\users\\takum\\appdata\\local\\programs\\python\\python310\\lib\\site-packages (from yfinance) (1.4.4)\n",
      "Requirement already satisfied: pytz>=2022.5 in c:\\users\\takum\\appdata\\local\\programs\\python\\python310\\lib\\site-packages (from yfinance) (2023.3.post1)\n",
      "Requirement already satisfied: frozendict>=2.3.4 in c:\\users\\takum\\appdata\\local\\programs\\python\\python310\\lib\\site-packages (from yfinance) (2.3.8)\n",
      "Requirement already satisfied: peewee>=3.16.2 in c:\\users\\takum\\appdata\\local\\programs\\python\\python310\\lib\\site-packages (from yfinance) (3.16.3)\n",
      "Requirement already satisfied: beautifulsoup4>=4.11.1 in c:\\users\\takum\\appdata\\local\\programs\\python\\python310\\lib\\site-packages (from yfinance) (4.11.1)\n",
      "Requirement already satisfied: html5lib>=1.1 in c:\\users\\takum\\appdata\\local\\programs\\python\\python310\\lib\\site-packages (from yfinance) (1.1)\n",
      "Requirement already satisfied: soupsieve>1.2 in c:\\users\\takum\\appdata\\local\\programs\\python\\python310\\lib\\site-packages (from beautifulsoup4>=4.11.1->yfinance) (2.3.2.post1)\n",
      "Requirement already satisfied: six>=1.9 in c:\\users\\takum\\appdata\\roaming\\python\\python310\\site-packages (from html5lib>=1.1->yfinance) (1.16.0)\n",
      "Requirement already satisfied: webencodings in c:\\users\\takum\\appdata\\local\\programs\\python\\python310\\lib\\site-packages (from html5lib>=1.1->yfinance) (0.5.1)\n",
      "Requirement already satisfied: python-dateutil>=2.8.1 in c:\\users\\takum\\appdata\\roaming\\python\\python310\\site-packages (from pandas>=1.3.0->yfinance) (2.8.2)\n",
      "Requirement already satisfied: charset-normalizer<4,>=2 in c:\\users\\takum\\appdata\\roaming\\python\\python310\\site-packages (from requests>=2.31->yfinance) (2.0.12)\n",
      "Requirement already satisfied: idna<4,>=2.5 in c:\\users\\takum\\appdata\\roaming\\python\\python310\\site-packages (from requests>=2.31->yfinance) (3.3)\n",
      "Requirement already satisfied: urllib3<3,>=1.21.1 in c:\\users\\takum\\appdata\\roaming\\python\\python310\\site-packages (from requests>=2.31->yfinance) (1.26.9)\n",
      "Requirement already satisfied: certifi>=2017.4.17 in c:\\users\\takum\\appdata\\roaming\\python\\python310\\site-packages (from requests>=2.31->yfinance) (2022.5.18.1)\n",
      "Note: you may need to restart the kernel to use updated packages.\n"
     ]
    },
    {
     "name": "stderr",
     "output_type": "stream",
     "text": [
      "\n",
      "[notice] A new release of pip is available: 23.1.2 -> 23.2.1\n",
      "[notice] To update, run: python.exe -m pip install --upgrade pip\n"
     ]
    }
   ],
   "source": [
    "pip install yfinance"
   ]
  },
  {
   "cell_type": "code",
   "execution_count": 2,
   "id": "cabd6505",
   "metadata": {},
   "outputs": [
    {
     "name": "stdout",
     "output_type": "stream",
     "text": [
      "Requirement already satisfied: pmdarima in c:\\users\\takum\\appdata\\local\\programs\\python\\python310\\lib\\site-packages (2.0.3)\n",
      "Requirement already satisfied: joblib>=0.11 in c:\\users\\takum\\appdata\\roaming\\python\\python310\\site-packages (from pmdarima) (1.1.0)\n",
      "Requirement already satisfied: Cython!=0.29.18,!=0.29.31,>=0.29 in c:\\users\\takum\\appdata\\local\\programs\\python\\python310\\lib\\site-packages (from pmdarima) (3.0.3)\n",
      "Requirement already satisfied: numpy>=1.21.2 in c:\\users\\takum\\appdata\\local\\programs\\python\\python310\\lib\\site-packages (from pmdarima) (1.24.4)\n",
      "Requirement already satisfied: pandas>=0.19 in c:\\users\\takum\\appdata\\roaming\\python\\python310\\site-packages (from pmdarima) (1.4.2)\n",
      "Requirement already satisfied: scikit-learn>=0.22 in c:\\users\\takum\\appdata\\roaming\\python\\python310\\site-packages (from pmdarima) (1.1.1)\n",
      "Requirement already satisfied: scipy>=1.3.2 in c:\\users\\takum\\appdata\\roaming\\python\\python310\\site-packages (from pmdarima) (1.8.1)\n",
      "Requirement already satisfied: statsmodels>=0.13.2 in c:\\users\\takum\\appdata\\local\\programs\\python\\python310\\lib\\site-packages (from pmdarima) (0.14.0)\n",
      "Requirement already satisfied: urllib3 in c:\\users\\takum\\appdata\\roaming\\python\\python310\\site-packages (from pmdarima) (1.26.9)\n",
      "Requirement already satisfied: setuptools!=50.0.0,>=38.6.0 in c:\\users\\takum\\appdata\\local\\programs\\python\\python310\\lib\\site-packages (from pmdarima) (67.8.0)\n",
      "Requirement already satisfied: python-dateutil>=2.8.1 in c:\\users\\takum\\appdata\\roaming\\python\\python310\\site-packages (from pandas>=0.19->pmdarima) (2.8.2)\n",
      "Requirement already satisfied: pytz>=2020.1 in c:\\users\\takum\\appdata\\local\\programs\\python\\python310\\lib\\site-packages (from pandas>=0.19->pmdarima) (2023.3.post1)\n",
      "Requirement already satisfied: threadpoolctl>=2.0.0 in c:\\users\\takum\\appdata\\roaming\\python\\python310\\site-packages (from scikit-learn>=0.22->pmdarima) (3.1.0)\n",
      "Requirement already satisfied: patsy>=0.5.2 in c:\\users\\takum\\appdata\\local\\programs\\python\\python310\\lib\\site-packages (from statsmodels>=0.13.2->pmdarima) (0.5.3)\n",
      "Requirement already satisfied: packaging>=21.3 in c:\\users\\takum\\appdata\\roaming\\python\\python310\\site-packages (from statsmodels>=0.13.2->pmdarima) (21.3)\n",
      "Requirement already satisfied: pyparsing!=3.0.5,>=2.0.2 in c:\\users\\takum\\appdata\\roaming\\python\\python310\\site-packages (from packaging>=21.3->statsmodels>=0.13.2->pmdarima) (3.0.9)\n",
      "Requirement already satisfied: six in c:\\users\\takum\\appdata\\roaming\\python\\python310\\site-packages (from patsy>=0.5.2->statsmodels>=0.13.2->pmdarima) (1.16.0)\n",
      "Note: you may need to restart the kernel to use updated packages.\n"
     ]
    },
    {
     "name": "stderr",
     "output_type": "stream",
     "text": [
      "\n",
      "[notice] A new release of pip is available: 23.1.2 -> 23.2.1\n",
      "[notice] To update, run: python.exe -m pip install --upgrade pip\n"
     ]
    }
   ],
   "source": [
    "pip install pmdarima"
   ]
  },
  {
   "cell_type": "code",
   "execution_count": 3,
   "id": "7d21fd08",
   "metadata": {},
   "outputs": [
    {
     "name": "stdout",
     "output_type": "stream",
     "text": [
      "[*********************100%%**********************]  2 of 2 completed\n",
      "            (Adj Close, AAPL)  (Adj Close, MSFT)  (Close, AAPL)  \\\n",
      "Date                                                              \n",
      "2023-01-03         124.538658         237.956329     125.070000   \n",
      "2023-01-04         125.823189         227.547363     126.360001   \n",
      "2023-01-05         124.488869         220.803360     125.019997   \n",
      "2023-01-06         129.069336         223.405609     129.619995   \n",
      "2023-01-09         129.597076         225.580765     130.149994   \n",
      "...                       ...                ...            ...   \n",
      "2023-10-10         178.389999         328.390015     178.389999   \n",
      "2023-10-11         179.800003         332.420013     179.800003   \n",
      "2023-10-12         180.710007         331.160004     180.710007   \n",
      "2023-10-13         178.850006         327.730011     178.850006   \n",
      "2023-10-16         178.720001         332.640015     178.720001   \n",
      "\n",
      "            (Close, MSFT)  (High, AAPL)  (High, MSFT)  (Low, AAPL)  \\\n",
      "Date                                                                 \n",
      "2023-01-03     239.580002    130.899994    245.750000   124.169998   \n",
      "2023-01-04     229.100006    128.660004    232.869995   125.080002   \n",
      "2023-01-05     222.309998    127.769997    227.550003   124.760002   \n",
      "2023-01-06     224.929993    130.289993    225.759995   124.889999   \n",
      "2023-01-09     227.119995    133.410004    231.240005   129.889999   \n",
      "...                   ...           ...           ...          ...   \n",
      "2023-10-10     328.390015    179.720001    331.100006   177.949997   \n",
      "2023-10-11     332.420013    179.850006    332.820007   177.600006   \n",
      "2023-10-12     331.160004    182.339996    333.630005   179.039993   \n",
      "2023-10-13     327.730011    181.929993    333.829987   178.139999   \n",
      "2023-10-16     332.640015    179.080002    336.140015   176.509995   \n",
      "\n",
      "            (Low, MSFT)  (Open, AAPL)  (Open, MSFT)  ...  \\\n",
      "Date                                                 ...   \n",
      "2023-01-03   237.399994    130.279999    243.080002  ...   \n",
      "2023-01-04   225.960007    126.889999    232.279999  ...   \n",
      "2023-01-05   221.759995    127.129997    227.199997  ...   \n",
      "2023-01-06   219.350006    126.010002    223.000000  ...   \n",
      "2023-01-09   226.410004    130.470001    226.449997  ...   \n",
      "...                 ...           ...           ...  ...   \n",
      "2023-10-10   327.670013    178.100006    330.959991  ...   \n",
      "2023-10-11   329.140015    178.199997    331.209991  ...   \n",
      "2023-10-12   328.720001    180.070007    330.570007  ...   \n",
      "2023-10-13   326.359985    181.419998    332.380005  ...   \n",
      "2023-10-16   330.600006    176.750000    331.049988  ...   \n",
      "\n",
      "            (3M_Volatility, AAPL)  (1M_Volatility, MSFT)  \\\n",
      "Date                                                       \n",
      "2023-01-03                    NaN                    NaN   \n",
      "2023-01-04                    NaN                    NaN   \n",
      "2023-01-05                    NaN                    NaN   \n",
      "2023-01-06                    NaN                    NaN   \n",
      "2023-01-09                    NaN                    NaN   \n",
      "...                           ...                    ...   \n",
      "2023-10-10               7.800524               7.933172   \n",
      "2023-10-11               7.628100               7.643179   \n",
      "2023-10-12               7.400579               6.949241   \n",
      "2023-10-13               7.224037               6.814910   \n",
      "2023-10-16               7.070331               7.056746   \n",
      "\n",
      "            (2M_Volatility, MSFT)  (3M_Volatility, MSFT)  \\\n",
      "Date                                                       \n",
      "2023-01-03                    NaN                    NaN   \n",
      "2023-01-04                    NaN                    NaN   \n",
      "2023-01-05                    NaN                    NaN   \n",
      "2023-01-06                    NaN                    NaN   \n",
      "2023-01-09                    NaN                    NaN   \n",
      "...                           ...                    ...   \n",
      "2023-10-10               7.216879              10.217005   \n",
      "2023-10-11               7.311862               9.370865   \n",
      "2023-10-12               7.346560               8.667287   \n",
      "2023-10-13               7.238853               8.277079   \n",
      "2023-10-16               7.186806               8.014275   \n",
      "\n",
      "            (10D_MA_Deviation, AAPL)  (50D_MA_Deviation, AAPL)  \\\n",
      "Date                                                             \n",
      "2023-01-03                       NaN                       NaN   \n",
      "2023-01-04                       NaN                       NaN   \n",
      "2023-01-05                       NaN                       NaN   \n",
      "2023-01-06                       NaN                       NaN   \n",
      "2023-01-09                       NaN                       NaN   \n",
      "...                              ...                       ...   \n",
      "2023-10-10                  0.024100                 -0.001687   \n",
      "2023-10-11                  0.026672                  0.007988   \n",
      "2023-10-12                  0.025998                  0.014439   \n",
      "2023-10-13                  0.011052                  0.005389   \n",
      "2023-10-16                  0.007486                  0.005027   \n",
      "\n",
      "            (200D_MA_Deviation, AAPL)  (10D_MA_Deviation, MSFT)  \\\n",
      "Date                                                              \n",
      "2023-01-03                        NaN                       NaN   \n",
      "2023-01-04                        NaN                       NaN   \n",
      "2023-01-05                        NaN                       NaN   \n",
      "2023-01-06                        NaN                       NaN   \n",
      "2023-01-09                        NaN                       NaN   \n",
      "...                               ...                       ...   \n",
      "2023-10-10                        NaN                  0.025847   \n",
      "2023-10-11                        NaN                  0.032107   \n",
      "2023-10-12                        NaN                  0.022632   \n",
      "2023-10-13                        NaN                  0.008310   \n",
      "2023-10-16                        NaN                  0.020015   \n",
      "\n",
      "            (50D_MA_Deviation, MSFT)  (200D_MA_Deviation, MSFT)  \n",
      "Date                                                             \n",
      "2023-01-03                       NaN                        NaN  \n",
      "2023-01-04                       NaN                        NaN  \n",
      "2023-01-05                       NaN                        NaN  \n",
      "2023-01-06                       NaN                        NaN  \n",
      "2023-01-09                       NaN                        NaN  \n",
      "...                              ...                        ...  \n",
      "2023-10-10                  0.010864                        NaN  \n",
      "2023-10-11                  0.023516                        NaN  \n",
      "2023-10-12                  0.019407                        NaN  \n",
      "2023-10-13                  0.008782                        NaN  \n",
      "2023-10-16                  0.023589                        NaN  \n",
      "\n",
      "[198 rows x 42 columns]\n"
     ]
    }
   ],
   "source": [
    "import yfinance as yf\n",
    "import pandas as pd\n",
    "from pmdarima.arima import auto_arima\n",
    "\n",
    "# Train an automatic ARIMA model\n",
    "def train_auto_arima_model(data):\n",
    "    model = auto_arima(data, suppress_warnings=True, stepwise=True, seasonal=False, error_action=\"ignore\")\n",
    "    return model\n",
    "\n",
    "# Get stock price and fundamental data\n",
    "def get_stock_and_fundamental_data(symbols, start_date, end_date):\n",
    "    stock_data = yf.download(symbols, start=start_date, end=end_date)\n",
    "    fundamental_data = {}\n",
    "    \n",
    "    for symbol in symbols:\n",
    "        fundamental_data[symbol] = yf.Ticker(symbol)\n",
    "        \n",
    "    resampled_fundamental_data = {}\n",
    "    \n",
    "    for symbol in symbols:\n",
    "        data = fundamental_data[symbol].history(period=\"1d\", start=start_date, end=end_date)\n",
    "        \n",
    "        data.index = data.index.tz_localize(None)\n",
    "        data = data[['Open', 'High', 'Low', 'Close', 'Volume']]\n",
    "        data = data.fillna(method='ffill')\n",
    "        \n",
    "        resampled_fundamental_data[symbol] = data\n",
    "\n",
    "    merged_data = pd.concat([stock_data, *resampled_fundamental_data.values()], axis=1)\n",
    "    \n",
    "    auto_arima_models = {}\n",
    "    \n",
    "    for symbol in symbols:\n",
    "        if ('Close', symbol) in merged_data.columns:\n",
    "            stock_price_data = merged_data[('Close', symbol)].dropna()\n",
    "            auto_arima_model = train_auto_arima_model(stock_price_data)\n",
    "            merged_data[('AutoARIMA', symbol)] = auto_arima_model.predict_in_sample()\n",
    "            auto_arima_models[symbol] = auto_arima_model\n",
    "\n",
    "    # Calculate the percentage change in closing price (return)\n",
    "    for symbol in symbols:\n",
    "        merged_data[('1M_Return', symbol)] = merged_data[('Close', symbol)].pct_change(periods=20)\n",
    "        merged_data[('2M_Return', symbol)] = merged_data[('Close', symbol)].pct_change(periods=40)\n",
    "        merged_data[('3M_Return', symbol)] = merged_data[('Close', symbol)].pct_change(periods=60)\n",
    "\n",
    "    # Calculate historical volatility\n",
    "    for symbol in symbols:\n",
    "        merged_data[('1M_Volatility', symbol)] = merged_data[('Close', symbol)].rolling(window=20).std()\n",
    "        merged_data[('2M_Volatility', symbol)] = merged_data[('Close', symbol)].rolling(window=40).std()\n",
    "        merged_data[('3M_Volatility', symbol)] = merged_data[('Close', symbol)].rolling(window=60).std()\n",
    "\n",
    "    # Calculate the percentage deviation from the moving average\n",
    "    for symbol in symbols:\n",
    "        merged_data[('10D_MA_Deviation', symbol)] = (merged_data[('Close', symbol)] - merged_data[('Close', symbol)].rolling(window=10).mean()) / merged_data[('Close', symbol)].rolling(window=10).mean()\n",
    "        merged_data[('50D_MA_Deviation', symbol)] = (merged_data[('Close', symbol)] - merged_data[('Close', symbol)].rolling(window=50).mean()) / merged_data[('Close', symbol)].rolling(window=50).mean()\n",
    "        merged_data[('200D_MA_Deviation', symbol)] = (merged_data[('Close', symbol)] - merged_data[('Close', symbol)].rolling(window=200).mean()) / merged_data[('Close', symbol)].rolling(window=200).mean()\n",
    "\n",
    "    return merged_data\n",
    "\n",
    "# Examples ; Apple, Microsoft\n",
    "symbols = ['AAPL', 'MSFT']  \n",
    "start_date = '2023-01-01'\n",
    "end_date = '2023-12-31'\n",
    "\n",
    "result = get_stock_and_fundamental_data(symbols, start_date, end_date)\n",
    "print(result)\n"
   ]
  },
  {
   "cell_type": "code",
   "execution_count": 4,
   "id": "a8df299e",
   "metadata": {},
   "outputs": [
    {
     "name": "stdout",
     "output_type": "stream",
     "text": [
      "[*********************100%%**********************]  2 of 2 completed\n"
     ]
    },
    {
     "name": "stderr",
     "output_type": "stream",
     "text": [
      "C:\\Users\\takum\\AppData\\Local\\Programs\\Python\\Python310\\lib\\site-packages\\statsmodels\\tsa\\base\\tsa_model.py:836: ValueWarning: No supported index is available. Prediction results will be given with an integer index beginning at `start`.\n",
      "  return get_prediction_index(\n",
      "C:\\Users\\takum\\AppData\\Local\\Programs\\Python\\Python310\\lib\\site-packages\\statsmodels\\tsa\\base\\tsa_model.py:836: FutureWarning: No supported index is available. In the next version, calling this method in a model without a supported index will result in an exception.\n",
      "  return get_prediction_index(\n"
     ]
    },
    {
     "name": "stdout",
     "output_type": "stream",
     "text": [
      "RMSE for AAPL: 3.5062722019282115\n"
     ]
    },
    {
     "name": "stderr",
     "output_type": "stream",
     "text": [
      "C:\\Users\\takum\\AppData\\Local\\Programs\\Python\\Python310\\lib\\site-packages\\statsmodels\\tsa\\base\\tsa_model.py:836: ValueWarning: No supported index is available. Prediction results will be given with an integer index beginning at `start`.\n",
      "  return get_prediction_index(\n",
      "C:\\Users\\takum\\AppData\\Local\\Programs\\Python\\Python310\\lib\\site-packages\\statsmodels\\tsa\\base\\tsa_model.py:836: FutureWarning: No supported index is available. In the next version, calling this method in a model without a supported index will result in an exception.\n",
      "  return get_prediction_index(\n"
     ]
    },
    {
     "name": "stdout",
     "output_type": "stream",
     "text": [
      "RMSE for AAPL: 1.8135824251426211\n"
     ]
    },
    {
     "name": "stderr",
     "output_type": "stream",
     "text": [
      "C:\\Users\\takum\\AppData\\Local\\Programs\\Python\\Python310\\lib\\site-packages\\statsmodels\\tsa\\base\\tsa_model.py:836: ValueWarning: No supported index is available. Prediction results will be given with an integer index beginning at `start`.\n",
      "  return get_prediction_index(\n",
      "C:\\Users\\takum\\AppData\\Local\\Programs\\Python\\Python310\\lib\\site-packages\\statsmodels\\tsa\\base\\tsa_model.py:836: FutureWarning: No supported index is available. In the next version, calling this method in a model without a supported index will result in an exception.\n",
      "  return get_prediction_index(\n"
     ]
    },
    {
     "name": "stdout",
     "output_type": "stream",
     "text": [
      "RMSE for AAPL: 3.688584966325576\n"
     ]
    },
    {
     "name": "stderr",
     "output_type": "stream",
     "text": [
      "C:\\Users\\takum\\AppData\\Local\\Programs\\Python\\Python310\\lib\\site-packages\\statsmodels\\tsa\\base\\tsa_model.py:836: ValueWarning: No supported index is available. Prediction results will be given with an integer index beginning at `start`.\n",
      "  return get_prediction_index(\n",
      "C:\\Users\\takum\\AppData\\Local\\Programs\\Python\\Python310\\lib\\site-packages\\statsmodels\\tsa\\base\\tsa_model.py:836: FutureWarning: No supported index is available. In the next version, calling this method in a model without a supported index will result in an exception.\n",
      "  return get_prediction_index(\n"
     ]
    },
    {
     "name": "stdout",
     "output_type": "stream",
     "text": [
      "RMSE for AAPL: 2.94708497873424\n"
     ]
    },
    {
     "name": "stderr",
     "output_type": "stream",
     "text": [
      "C:\\Users\\takum\\AppData\\Local\\Programs\\Python\\Python310\\lib\\site-packages\\statsmodels\\tsa\\base\\tsa_model.py:836: ValueWarning: No supported index is available. Prediction results will be given with an integer index beginning at `start`.\n",
      "  return get_prediction_index(\n",
      "C:\\Users\\takum\\AppData\\Local\\Programs\\Python\\Python310\\lib\\site-packages\\statsmodels\\tsa\\base\\tsa_model.py:836: FutureWarning: No supported index is available. In the next version, calling this method in a model without a supported index will result in an exception.\n",
      "  return get_prediction_index(\n"
     ]
    },
    {
     "name": "stdout",
     "output_type": "stream",
     "text": [
      "RMSE for AAPL: 10.026287120600793\n"
     ]
    },
    {
     "name": "stderr",
     "output_type": "stream",
     "text": [
      "C:\\Users\\takum\\AppData\\Local\\Programs\\Python\\Python310\\lib\\site-packages\\statsmodels\\tsa\\base\\tsa_model.py:836: ValueWarning: No supported index is available. Prediction results will be given with an integer index beginning at `start`.\n",
      "  return get_prediction_index(\n",
      "C:\\Users\\takum\\AppData\\Local\\Programs\\Python\\Python310\\lib\\site-packages\\statsmodels\\tsa\\base\\tsa_model.py:836: FutureWarning: No supported index is available. In the next version, calling this method in a model without a supported index will result in an exception.\n",
      "  return get_prediction_index(\n"
     ]
    },
    {
     "name": "stdout",
     "output_type": "stream",
     "text": [
      "RMSE for AAPL: 3.3192596586324314\n"
     ]
    },
    {
     "name": "stderr",
     "output_type": "stream",
     "text": [
      "C:\\Users\\takum\\AppData\\Local\\Programs\\Python\\Python310\\lib\\site-packages\\statsmodels\\tsa\\base\\tsa_model.py:836: ValueWarning: No supported index is available. Prediction results will be given with an integer index beginning at `start`.\n",
      "  return get_prediction_index(\n",
      "C:\\Users\\takum\\AppData\\Local\\Programs\\Python\\Python310\\lib\\site-packages\\statsmodels\\tsa\\base\\tsa_model.py:836: FutureWarning: No supported index is available. In the next version, calling this method in a model without a supported index will result in an exception.\n",
      "  return get_prediction_index(\n"
     ]
    },
    {
     "name": "stdout",
     "output_type": "stream",
     "text": [
      "RMSE for AAPL: 7.956854043270077\n"
     ]
    },
    {
     "name": "stderr",
     "output_type": "stream",
     "text": [
      "C:\\Users\\takum\\AppData\\Local\\Programs\\Python\\Python310\\lib\\site-packages\\statsmodels\\tsa\\base\\tsa_model.py:836: ValueWarning: No supported index is available. Prediction results will be given with an integer index beginning at `start`.\n",
      "  return get_prediction_index(\n",
      "C:\\Users\\takum\\AppData\\Local\\Programs\\Python\\Python310\\lib\\site-packages\\statsmodels\\tsa\\base\\tsa_model.py:836: FutureWarning: No supported index is available. In the next version, calling this method in a model without a supported index will result in an exception.\n",
      "  return get_prediction_index(\n"
     ]
    },
    {
     "name": "stdout",
     "output_type": "stream",
     "text": [
      "RMSE for AAPL: 6.253037126817244\n"
     ]
    },
    {
     "name": "stderr",
     "output_type": "stream",
     "text": [
      "C:\\Users\\takum\\AppData\\Local\\Programs\\Python\\Python310\\lib\\site-packages\\statsmodels\\tsa\\base\\tsa_model.py:836: ValueWarning: No supported index is available. Prediction results will be given with an integer index beginning at `start`.\n",
      "  return get_prediction_index(\n",
      "C:\\Users\\takum\\AppData\\Local\\Programs\\Python\\Python310\\lib\\site-packages\\statsmodels\\tsa\\base\\tsa_model.py:836: FutureWarning: No supported index is available. In the next version, calling this method in a model without a supported index will result in an exception.\n",
      "  return get_prediction_index(\n"
     ]
    },
    {
     "name": "stdout",
     "output_type": "stream",
     "text": [
      "RMSE for AAPL: 3.140374025274986\n"
     ]
    },
    {
     "name": "stderr",
     "output_type": "stream",
     "text": [
      "C:\\Users\\takum\\AppData\\Local\\Programs\\Python\\Python310\\lib\\site-packages\\statsmodels\\tsa\\base\\tsa_model.py:836: ValueWarning: No supported index is available. Prediction results will be given with an integer index beginning at `start`.\n",
      "  return get_prediction_index(\n",
      "C:\\Users\\takum\\AppData\\Local\\Programs\\Python\\Python310\\lib\\site-packages\\statsmodels\\tsa\\base\\tsa_model.py:836: FutureWarning: No supported index is available. In the next version, calling this method in a model without a supported index will result in an exception.\n",
      "  return get_prediction_index(\n"
     ]
    },
    {
     "name": "stdout",
     "output_type": "stream",
     "text": [
      "RMSE for MSFT: 5.62057887330505\n"
     ]
    },
    {
     "name": "stderr",
     "output_type": "stream",
     "text": [
      "C:\\Users\\takum\\AppData\\Local\\Programs\\Python\\Python310\\lib\\site-packages\\statsmodels\\tsa\\base\\tsa_model.py:836: ValueWarning: No supported index is available. Prediction results will be given with an integer index beginning at `start`.\n",
      "  return get_prediction_index(\n",
      "C:\\Users\\takum\\AppData\\Local\\Programs\\Python\\Python310\\lib\\site-packages\\statsmodels\\tsa\\base\\tsa_model.py:836: FutureWarning: No supported index is available. In the next version, calling this method in a model without a supported index will result in an exception.\n",
      "  return get_prediction_index(\n"
     ]
    },
    {
     "name": "stdout",
     "output_type": "stream",
     "text": [
      "RMSE for MSFT: 7.980329091251963\n"
     ]
    },
    {
     "name": "stderr",
     "output_type": "stream",
     "text": [
      "C:\\Users\\takum\\AppData\\Local\\Programs\\Python\\Python310\\lib\\site-packages\\statsmodels\\tsa\\base\\tsa_model.py:836: ValueWarning: No supported index is available. Prediction results will be given with an integer index beginning at `start`.\n",
      "  return get_prediction_index(\n",
      "C:\\Users\\takum\\AppData\\Local\\Programs\\Python\\Python310\\lib\\site-packages\\statsmodels\\tsa\\base\\tsa_model.py:836: FutureWarning: No supported index is available. In the next version, calling this method in a model without a supported index will result in an exception.\n",
      "  return get_prediction_index(\n"
     ]
    },
    {
     "name": "stdout",
     "output_type": "stream",
     "text": [
      "RMSE for MSFT: 5.464624630503476\n"
     ]
    },
    {
     "name": "stderr",
     "output_type": "stream",
     "text": [
      "C:\\Users\\takum\\AppData\\Local\\Programs\\Python\\Python310\\lib\\site-packages\\statsmodels\\tsa\\base\\tsa_model.py:836: ValueWarning: No supported index is available. Prediction results will be given with an integer index beginning at `start`.\n",
      "  return get_prediction_index(\n",
      "C:\\Users\\takum\\AppData\\Local\\Programs\\Python\\Python310\\lib\\site-packages\\statsmodels\\tsa\\base\\tsa_model.py:836: FutureWarning: No supported index is available. In the next version, calling this method in a model without a supported index will result in an exception.\n",
      "  return get_prediction_index(\n"
     ]
    },
    {
     "name": "stdout",
     "output_type": "stream",
     "text": [
      "RMSE for MSFT: 15.949420317582643\n"
     ]
    },
    {
     "name": "stderr",
     "output_type": "stream",
     "text": [
      "C:\\Users\\takum\\AppData\\Local\\Programs\\Python\\Python310\\lib\\site-packages\\statsmodels\\tsa\\base\\tsa_model.py:836: ValueWarning: No supported index is available. Prediction results will be given with an integer index beginning at `start`.\n",
      "  return get_prediction_index(\n",
      "C:\\Users\\takum\\AppData\\Local\\Programs\\Python\\Python310\\lib\\site-packages\\statsmodels\\tsa\\base\\tsa_model.py:836: FutureWarning: No supported index is available. In the next version, calling this method in a model without a supported index will result in an exception.\n",
      "  return get_prediction_index(\n"
     ]
    },
    {
     "name": "stdout",
     "output_type": "stream",
     "text": [
      "RMSE for MSFT: 26.74690908350477\n"
     ]
    },
    {
     "name": "stderr",
     "output_type": "stream",
     "text": [
      "C:\\Users\\takum\\AppData\\Local\\Programs\\Python\\Python310\\lib\\site-packages\\statsmodels\\tsa\\base\\tsa_model.py:836: ValueWarning: No supported index is available. Prediction results will be given with an integer index beginning at `start`.\n",
      "  return get_prediction_index(\n",
      "C:\\Users\\takum\\AppData\\Local\\Programs\\Python\\Python310\\lib\\site-packages\\statsmodels\\tsa\\base\\tsa_model.py:836: FutureWarning: No supported index is available. In the next version, calling this method in a model without a supported index will result in an exception.\n",
      "  return get_prediction_index(\n"
     ]
    },
    {
     "name": "stdout",
     "output_type": "stream",
     "text": [
      "RMSE for MSFT: 5.560543253557107\n"
     ]
    },
    {
     "name": "stderr",
     "output_type": "stream",
     "text": [
      "C:\\Users\\takum\\AppData\\Local\\Programs\\Python\\Python310\\lib\\site-packages\\statsmodels\\tsa\\base\\tsa_model.py:836: ValueWarning: No supported index is available. Prediction results will be given with an integer index beginning at `start`.\n",
      "  return get_prediction_index(\n",
      "C:\\Users\\takum\\AppData\\Local\\Programs\\Python\\Python310\\lib\\site-packages\\statsmodels\\tsa\\base\\tsa_model.py:836: FutureWarning: No supported index is available. In the next version, calling this method in a model without a supported index will result in an exception.\n",
      "  return get_prediction_index(\n"
     ]
    },
    {
     "name": "stdout",
     "output_type": "stream",
     "text": [
      "RMSE for MSFT: 6.341818401870224\n"
     ]
    },
    {
     "name": "stderr",
     "output_type": "stream",
     "text": [
      "C:\\Users\\takum\\AppData\\Local\\Programs\\Python\\Python310\\lib\\site-packages\\statsmodels\\tsa\\base\\tsa_model.py:836: ValueWarning: No supported index is available. Prediction results will be given with an integer index beginning at `start`.\n",
      "  return get_prediction_index(\n",
      "C:\\Users\\takum\\AppData\\Local\\Programs\\Python\\Python310\\lib\\site-packages\\statsmodels\\tsa\\base\\tsa_model.py:836: FutureWarning: No supported index is available. In the next version, calling this method in a model without a supported index will result in an exception.\n",
      "  return get_prediction_index(\n"
     ]
    },
    {
     "name": "stdout",
     "output_type": "stream",
     "text": [
      "RMSE for MSFT: 5.174814634984856\n",
      "RMSE for MSFT: 5.469023439400305\n"
     ]
    },
    {
     "name": "stderr",
     "output_type": "stream",
     "text": [
      "C:\\Users\\takum\\AppData\\Local\\Programs\\Python\\Python310\\lib\\site-packages\\statsmodels\\tsa\\base\\tsa_model.py:836: ValueWarning: No supported index is available. Prediction results will be given with an integer index beginning at `start`.\n",
      "  return get_prediction_index(\n",
      "C:\\Users\\takum\\AppData\\Local\\Programs\\Python\\Python310\\lib\\site-packages\\statsmodels\\tsa\\base\\tsa_model.py:836: FutureWarning: No supported index is available. In the next version, calling this method in a model without a supported index will result in an exception.\n",
      "  return get_prediction_index(\n"
     ]
    }
   ],
   "source": [
    "import yfinance as yf\n",
    "import pandas as pd\n",
    "from pmdarima.arima import auto_arima\n",
    "from sklearn.metrics import mean_squared_error\n",
    "import numpy as np\n",
    "\n",
    "# Train an automatic ARIMA model\n",
    "def train_auto_arima_model(data):\n",
    "    model = auto_arima(data, suppress_warnings=True, stepwise=True, seasonal=False, error_action=\"ignore\")\n",
    "    return model\n",
    "\n",
    "# Time series cross-validation\n",
    "def time_series_cross_validation(result, train_size, test_size, step_size, symbol):\n",
    "    n = len(result)\n",
    "    start_idx = 0\n",
    "    end_idx = train_size\n",
    "\n",
    "    while end_idx + test_size <= n:\n",
    "        # Train data (converted to 1D series)\n",
    "        train_data = result.iloc[start_idx:end_idx][('Close', symbol)].dropna()\n",
    "        # Test data (converted to 1D series)\n",
    "        test_data = result.iloc[end_idx:end_idx + test_size][('Close', symbol)].dropna()\n",
    "\n",
    "        # Automatic ARIMA model training\n",
    "        model = train_auto_arima_model(train_data)\n",
    "\n",
    "        # Prediction by model\n",
    "        predictions = model.predict(n_periods=test_size)\n",
    "\n",
    "        # Model Evaluation\n",
    "        rmse = np.sqrt(mean_squared_error(test_data, predictions))\n",
    "        print(f\"RMSE for {symbol}: {rmse}\")\n",
    "\n",
    "        start_idx += step_size\n",
    "        end_idx += step_size\n",
    "\n",
    "# Examples ; Apple, Microsoft\n",
    "symbols = ['AAPL', 'MSFT']  \n",
    "start_date = '2023-01-01'\n",
    "end_date = '2023-12-31'\n",
    "\n",
    "result = get_stock_and_fundamental_data(symbols, start_date, end_date)\n",
    "\n",
    "# Perform time series cross-validation for each symbol\n",
    "for symbol in symbols:\n",
    "    time_series_cross_validation(result, 100, 10, 10, symbol)\n",
    "\n"
   ]
  },
  {
   "cell_type": "code",
   "execution_count": 31,
   "id": "df19289f",
   "metadata": {},
   "outputs": [
    {
     "name": "stdout",
     "output_type": "stream",
     "text": [
      "[*********************100%%**********************]  1 of 1 completed\n",
      "[*********************100%%**********************]  1 of 1 completed\n"
     ]
    }
   ],
   "source": [
    "import yfinance as yf\n",
    "import pandas as pd\n",
    "from pmdarima.arima import auto_arima\n",
    "import numpy as np\n",
    "\n",
    "# Train an automatic ARIMA model\n",
    "def train_auto_arima_model(data):\n",
    "    model = auto_arima(data, suppress_warnings=True, stepwise=True, seasonal=False, error_action=\"ignore\")\n",
    "    return model\n",
    "\n",
    "# Get stock price and fundamental data\n",
    "def get_stock_and_fundamental_data(symbols, start_date, end_date):\n",
    "    data = {}  # Dictionary for storing data\n",
    "\n",
    "    for symbol in symbols:\n",
    "        # Get stock price data using yfinance\n",
    "        stock_data = yf.download(symbol, start=start_date, end=end_date)\n",
    "        \n",
    "        # Extract the data you need (in this example, only the closing price)\n",
    "        data[symbol] = stock_data['Close']\n",
    "\n",
    "    # Convert data to Pandas DataFrame\n",
    "    result = pd.DataFrame(data)\n",
    "    \n",
    "    return result\n",
    "\n",
    "# Examples ; Apple, Microsoft\n",
    "symbols = ['AAPL', 'MSFT']  \n",
    "start_date = '2023-01-01'\n",
    "end_date = '2023-12-31'\n",
    "\n",
    "result = get_stock_and_fundamental_data(symbols, start_date, end_date)\n",
    "\n",
    "# Get ARIMA output results (predictions)\n",
    "arima_predictions = result['AAPL'].values  \n",
    "\n",
    "# Set LSTM input data window size\n",
    "window_size = 10  # As an example, consider data for the past 10 days.\n",
    "\n",
    "# Initialize LSTM input and output data\n",
    "X_data = []\n",
    "y_data = []\n",
    "\n",
    "    \n",
    "# Initialize LSTM input and output data\n",
    "X_data = []\n",
    "y_data = []\n",
    "\n",
    "# Loop over dataset\n",
    "for i in range(len(arima_predictions) - window_size):\n",
    "    # Input data including past observations\n",
    "    input_sequence = arima_predictions[i:i+window_size]\n",
    "\n",
    "    # Add corresponding predictions as output data\n",
    "    if i + window_size < len(arima_predictions):\n",
    "        y_data.append(arima_predictions[i + window_size])\n",
    "\n",
    "    # Add as LSTM input data\n",
    "    X_data.append(input_sequence)\n",
    "\n",
    "\n",
    "# Convert input and output data to NumPy array\n",
    "X_data = np.array(X_data)\n",
    "y_data = np.array(y_data)\n",
    "\n",
    "# X_data is a 3D array whose shape is (number of data points, window size)\n",
    "# y_data is a 1D array of shape (number of data points,)\n"
   ]
  },
  {
   "cell_type": "code",
   "execution_count": 34,
   "id": "fb6d6a3b",
   "metadata": {
    "scrolled": true
   },
   "outputs": [
    {
     "name": "stdout",
     "output_type": "stream",
     "text": [
      "Epoch 1/50\n",
      "6/6 [==============================] - 2s 8ms/step - loss: 29480.7188\n",
      "Epoch 2/50\n",
      "6/6 [==============================] - 0s 6ms/step - loss: 29402.8516\n",
      "Epoch 3/50\n",
      "6/6 [==============================] - 0s 6ms/step - loss: 29308.3066\n",
      "Epoch 4/50\n",
      "6/6 [==============================] - 0s 6ms/step - loss: 29166.3730\n",
      "Epoch 5/50\n",
      "6/6 [==============================] - 0s 5ms/step - loss: 28922.3965\n",
      "Epoch 6/50\n",
      "6/6 [==============================] - 0s 5ms/step - loss: 28488.8301\n",
      "Epoch 7/50\n",
      "6/6 [==============================] - 0s 6ms/step - loss: 27882.7832\n",
      "Epoch 8/50\n",
      "6/6 [==============================] - 0s 6ms/step - loss: 27286.5020\n",
      "Epoch 9/50\n",
      "6/6 [==============================] - 0s 6ms/step - loss: 26792.4570\n",
      "Epoch 10/50\n",
      "6/6 [==============================] - 0s 6ms/step - loss: 26407.7617\n",
      "Epoch 11/50\n",
      "6/6 [==============================] - 0s 6ms/step - loss: 26104.6445\n",
      "Epoch 12/50\n",
      "6/6 [==============================] - 0s 5ms/step - loss: 25861.6562\n",
      "Epoch 13/50\n",
      "6/6 [==============================] - 0s 5ms/step - loss: 25657.8418\n",
      "Epoch 14/50\n",
      "6/6 [==============================] - 0s 6ms/step - loss: 25481.7559\n",
      "Epoch 15/50\n",
      "6/6 [==============================] - 0s 7ms/step - loss: 25322.9023\n",
      "Epoch 16/50\n",
      "6/6 [==============================] - 0s 5ms/step - loss: 25175.1191\n",
      "Epoch 17/50\n",
      "6/6 [==============================] - 0s 6ms/step - loss: 25036.1406\n",
      "Epoch 18/50\n",
      "6/6 [==============================] - 0s 6ms/step - loss: 24903.1855\n",
      "Epoch 19/50\n",
      "6/6 [==============================] - 0s 5ms/step - loss: 24774.0996\n",
      "Epoch 20/50\n",
      "6/6 [==============================] - 0s 6ms/step - loss: 24649.5586\n",
      "Epoch 21/50\n",
      "6/6 [==============================] - 0s 6ms/step - loss: 24528.3281\n",
      "Epoch 22/50\n",
      "6/6 [==============================] - 0s 6ms/step - loss: 24409.5449\n",
      "Epoch 23/50\n",
      "6/6 [==============================] - 0s 6ms/step - loss: 24292.8145\n",
      "Epoch 24/50\n",
      "6/6 [==============================] - 0s 5ms/step - loss: 24178.3555\n",
      "Epoch 25/50\n",
      "6/6 [==============================] - 0s 5ms/step - loss: 24065.2246\n",
      "Epoch 26/50\n",
      "6/6 [==============================] - 0s 6ms/step - loss: 23954.4648\n",
      "Epoch 27/50\n",
      "6/6 [==============================] - 1s 155ms/step - loss: 23844.8672\n",
      "Epoch 28/50\n",
      "6/6 [==============================] - 0s 6ms/step - loss: 23736.5176\n",
      "Epoch 29/50\n",
      "6/6 [==============================] - 0s 6ms/step - loss: 23629.5840\n",
      "Epoch 30/50\n",
      "6/6 [==============================] - 0s 6ms/step - loss: 23523.7734\n",
      "Epoch 31/50\n",
      "6/6 [==============================] - 0s 6ms/step - loss: 23419.1543\n",
      "Epoch 32/50\n",
      "6/6 [==============================] - 0s 6ms/step - loss: 23315.3789\n",
      "Epoch 33/50\n",
      "6/6 [==============================] - 0s 5ms/step - loss: 23212.4102\n",
      "Epoch 34/50\n",
      "6/6 [==============================] - 0s 6ms/step - loss: 23110.9863\n",
      "Epoch 35/50\n",
      "6/6 [==============================] - 0s 6ms/step - loss: 23009.8965\n",
      "Epoch 36/50\n",
      "6/6 [==============================] - 0s 6ms/step - loss: 22909.3066\n",
      "Epoch 37/50\n",
      "6/6 [==============================] - 0s 6ms/step - loss: 22810.0078\n",
      "Epoch 38/50\n",
      "6/6 [==============================] - 0s 6ms/step - loss: 22711.3965\n",
      "Epoch 39/50\n",
      "6/6 [==============================] - 0s 6ms/step - loss: 22613.5977\n",
      "Epoch 40/50\n",
      "6/6 [==============================] - 0s 6ms/step - loss: 22515.8828\n",
      "Epoch 41/50\n",
      "6/6 [==============================] - 0s 6ms/step - loss: 22419.5898\n",
      "Epoch 42/50\n",
      "6/6 [==============================] - 0s 6ms/step - loss: 22323.5078\n",
      "Epoch 43/50\n",
      "6/6 [==============================] - 0s 6ms/step - loss: 22227.9316\n",
      "Epoch 44/50\n",
      "6/6 [==============================] - 0s 6ms/step - loss: 22133.3125\n",
      "Epoch 45/50\n",
      "6/6 [==============================] - 0s 6ms/step - loss: 22038.7480\n",
      "Epoch 46/50\n",
      "6/6 [==============================] - 0s 6ms/step - loss: 21945.0469\n",
      "Epoch 47/50\n",
      "6/6 [==============================] - 0s 7ms/step - loss: 21851.7598\n",
      "Epoch 48/50\n",
      "6/6 [==============================] - 0s 6ms/step - loss: 21759.1992\n",
      "Epoch 49/50\n",
      "6/6 [==============================] - 0s 7ms/step - loss: 21667.2402\n",
      "Epoch 50/50\n",
      "6/6 [==============================] - 0s 7ms/step - loss: 21575.2754\n",
      "1/1 [==============================] - 0s 392ms/step\n"
     ]
    }
   ],
   "source": [
    "# Change from 2D data to 3D data\n",
    "X_data = np.array(X_data)\n",
    "X_data = X_data.reshape(X_data.shape[0], X_data.shape[1], 1)  # Add last dimension\n",
    "\n",
    "# Define a MinMaxScaler for the future data\n",
    "scaler = MinMaxScaler()\n",
    "\n",
    "# Define a MinMaxScaler for the input data (X_data)\n",
    "scalers = [MinMaxScaler() for _ in range(X_data.shape[2])]\n",
    "X_data_normalized = np.empty_like(X_data)\n",
    "\n",
    "# Normalize the input data\n",
    "for feature in range(X_data.shape[2]):\n",
    "    X_data_normalized[:, :, feature] = scalers[feature].fit_transform(X_data[:, :, feature])\n",
    "\n",
    "# Define the LSTM model\n",
    "model = Sequential()\n",
    "model.add(LSTM(50, input_shape=(X_data.shape[1], X_data.shape[2])))\n",
    "\n",
    "model.add(Dense(1))\n",
    "model.compile(optimizer='adam', loss='mean_squared_error')\n",
    "\n",
    "# Train the model\n",
    "model.fit(X_data_normalized, y_data, epochs=50, batch_size=32)\n",
    "\n",
    "# Get the future data (assuming arima_predictions is already defined)\n",
    "future_data = arima_predictions[-window_size:]  # Get the last window\n",
    "\n",
    "# Normalize the future data\n",
    "future_data = future_data.reshape(-1, 1)  # Reshape the data to (10, 1)\n",
    "future_data_normalized = scaler.fit_transform(future_data)\n",
    "\n",
    "# Reshape it for the LSTM model\n",
    "future_data_normalized = future_data_normalized.reshape(1, future_data_normalized.shape[0], 1)  # Reshape the data to (1, 10, 1)\n",
    "\n",
    "# Use the LSTM model to make future predictions\n",
    "predicted_value = model.predict(future_data_normalized)\n",
    "\n",
    "# Inverse transform to the original scale\n",
    "predicted_value = scaler.inverse_transform(predicted_value)\n"
   ]
  },
  {
   "cell_type": "code",
   "execution_count": 37,
   "id": "3918c7e7",
   "metadata": {},
   "outputs": [
    {
     "name": "stdout",
     "output_type": "stream",
     "text": [
      "[[350.5933]]\n"
     ]
    }
   ],
   "source": [
    "print(predicted_value)"
   ]
  },
  {
   "cell_type": "code",
   "execution_count": 35,
   "id": "f7353eac",
   "metadata": {},
   "outputs": [
    {
     "name": "stdout",
     "output_type": "stream",
     "text": [
      "Index(['AAPL', 'MSFT'], dtype='object')\n"
     ]
    }
   ],
   "source": [
    "print(result.columns)"
   ]
  },
  {
   "cell_type": "code",
   "execution_count": 38,
   "id": "47a52a24",
   "metadata": {},
   "outputs": [
    {
     "data": {
      "image/png": "[encoded data removed]",
      "text/plain": [
       "<Figure size 1008x504 with 1 Axes>"
      ]
     },
     "metadata": {
      "needs_background": "light"
     },
     "output_type": "display_data"
    }
   ],
   "source": [
    "import matplotlib.pyplot as plt\n",
    "\n",
    "# Extract AAPL and MSFT stock price data\n",
    "aapl_data = result['AAPL']\n",
    "msft_data = result['MSFT']\n",
    "\n",
    "# Set graph size\n",
    "plt.figure(figsize=(14, 7))\n",
    "\n",
    "# Drawing AAPL stock price data\n",
    "plt.plot(aapl_data.index, aapl_data, label='AAPL', color='blue')\n",
    "\n",
    "# Drawing MSFT stock price data\n",
    "plt.plot(msft_data.index, msft_data, label='MSFT', color='green')\n",
    "\n",
    "# Set graph title and axis labels\n",
    "plt.title('AAPL and MSFT Stock Prices')\n",
    "plt.xlabel('Date')\n",
    "plt.ylabel('Price')\n",
    "\n",
    "# Show legend\n",
    "plt.legend()\n",
    "\n",
    "# Show graph\n",
    "plt.show()\n"
   ]
  },
  {
   "cell_type": "code",
   "execution_count": 67,
   "id": "c82083bd",
   "metadata": {},
   "outputs": [],
   "source": [
    "import pandas as pd\n",
    "import matplotlib.pyplot as plt\n",
    "\n",
    "# Extract AAPL and MSFT stock price data\n",
    "aapl_data = result['AAPL']\n",
    "msft_data = result['MSFT']\n",
    "\n",
    "# Set date as index\n",
    "aapl_data.index = pd.to_datetime(aapl_data.index)\n",
    "msft_data.index = pd.to_datetime(msft_data.index)\n",
    "\n",
    "# Delete rows containing missing values\n",
    "aapl_data.dropna(inplace=True)\n",
    "msft_data.dropna(inplace=True)\n",
    "\n",
    "# Create a new data frame, specify column names and calculate moving average\n",
    "aapl_df = pd.DataFrame({'Close': aapl_data})\n",
    "msft_df = pd.DataFrame({'Close': msft_data})\n",
    "\n",
    "aapl_df['10D_MA'] = aapl_df['Close'].rolling(window=10).mean()\n",
    "aapl_df['50D_MA'] = aapl_df['Close'].rolling(window=50).mean()\n",
    "aapl_df['200D_MA'] = aapl_df['Close'].rolling(window=200).mean()\n",
    "\n",
    "msft_df['10D_MA'] = msft_df['Close'].rolling(window=10).mean()\n",
    "msft_df['50D_MA'] = msft_df['Close'].rolling(window=50).mean()\n",
    "msft_df['200D_MA'] = msft_df['Close'].rolling(window=200).mean()\n"
   ]
  },
  {
   "cell_type": "code",
   "execution_count": 68,
   "id": "ff438c5b",
   "metadata": {},
   "outputs": [
    {
     "data": {
      "image/png": "[encoded data removed]",
      "text/plain": [
       "<Figure size 864x432 with 1 Axes>"
      ]
     },
     "metadata": {
      "needs_background": "light"
     },
     "output_type": "display_data"
    }
   ],
   "source": [
    "# Draw a graphv\n",
    "plt.figure(figsize=(12, 6))\n",
    "plt.plot(aapl_data.index, aapl_data, label='AAPL', linewidth=1)\n",
    "plt.plot(aapl_df.index, aapl_df['10D_MA'], label='AAPL 10D MA', linestyle='--')\n",
    "plt.plot(aapl_df.index, aapl_df['50D_MA'], label='AAPL 50D MA', linestyle='--')\n",
    "plt.plot(aapl_df.index, aapl_df['200D_MA'], label='AAPL 200D MA', linestyle='--')\n",
    "\n",
    "plt.plot(msft_data.index, msft_data, label='MSFT', linewidth=1)\n",
    "plt.plot(msft_df.index, msft_df['10D_MA'], label='MSFT 10D MA', linestyle='--')\n",
    "plt.plot(msft_df.index, msft_df['50D_MA'], label='MSFT 50D MA', linestyle='--')\n",
    "plt.plot(msft_df.index, msft_df['200D_MA'], label='MSFT 200D MA', linestyle='--')\n",
    "\n",
    "plt.title('AAPL and MSFT Stock Prices with Moving Averages')\n",
    "plt.xlabel('Date')\n",
    "plt.ylabel('Price')\n",
    "plt.legend()\n",
    "plt.grid()\n",
    "plt.show()"
   ]
  },
  {
   "cell_type": "code",
   "execution_count": 71,
   "id": "8ab73821",
   "metadata": {},
   "outputs": [
    {
     "name": "stdout",
     "output_type": "stream",
     "text": [
      "                          Close  10D_MA  50D_MA  200D_MA AAPL_10D_50D_Signal\n",
      "2023-01-03 00:00:00  125.070000     NaN     NaN      NaN                 NaN\n",
      "2023-01-04 00:00:00  126.360001     NaN     NaN      NaN                 NaN\n",
      "2023-01-05 00:00:00  125.019997     NaN     NaN      NaN                 NaN\n",
      "2023-01-06 00:00:00  129.619995     NaN     NaN      NaN                 NaN\n",
      "2023-01-09 00:00:00  130.149994     NaN     NaN      NaN                 NaN\n",
      "...                         ...     ...     ...      ...                 ...\n",
      "194                         NaN     NaN     NaN      NaN                Sell\n",
      "195                         NaN     NaN     NaN      NaN                Sell\n",
      "196                         NaN     NaN     NaN      NaN                Sell\n",
      "197                         NaN     NaN     NaN      NaN                Sell\n",
      "198                         NaN     NaN     NaN      NaN                Sell\n",
      "\n",
      "[398 rows x 5 columns]\n",
      "                          Close  10D_MA  50D_MA  200D_MA MSFT_10D_50D_Signal\n",
      "2023-01-03 00:00:00  239.580002     NaN     NaN      NaN                 NaN\n",
      "2023-01-04 00:00:00  229.100006     NaN     NaN      NaN                 NaN\n",
      "2023-01-05 00:00:00  222.309998     NaN     NaN      NaN                 NaN\n",
      "2023-01-06 00:00:00  224.929993     NaN     NaN      NaN                 NaN\n",
      "2023-01-09 00:00:00  227.119995     NaN     NaN      NaN                 NaN\n",
      "...                         ...     ...     ...      ...                 ...\n",
      "194                         NaN     NaN     NaN      NaN                Sell\n",
      "195                         NaN     NaN     NaN      NaN                Sell\n",
      "196                         NaN     NaN     NaN      NaN                Sell\n",
      "197                         NaN     NaN     NaN      NaN                Sell\n",
      "198                         NaN     NaN     NaN      NaN                Sell\n",
      "\n",
      "[398 rows x 5 columns]\n"
     ]
    }
   ],
   "source": [
    "import numpy as np\n",
    "import pandas as pd\n",
    "\n",
    "# Create a function to generate moving average crossover signals\n",
    "def generate_signals(data, short_window, long_window):\n",
    "    signals = []\n",
    "\n",
    "    for i in range(len(data)):\n",
    "        if i < long_window:\n",
    "            signals.append(0)  # No signal until the long window is reached\n",
    "        else:\n",
    "            short_avg = np.mean(data[i - short_window:i])\n",
    "            long_avg = np.mean(data[i - long_window:i])\n",
    "\n",
    "            if short_avg > long_avg:\n",
    "                signals.append(\"Buy\")  # Generate a Buy signal\n",
    "            else:\n",
    "                signals.append(\"Sell\")  # Generate a Sell signal\n",
    "\n",
    "    return signals\n",
    "\n",
    "# Define the window sizes for short and long moving averages\n",
    "short_window = 10  # Adjust this to your preferred short window size\n",
    "long_window = 50  # Adjust this to your preferred long window size\n",
    "\n",
    "# Assume you have DataFrames named 'aapl_df' and 'msft_df'\n",
    "# that contain '10D_MA' and '50D_MA' columns\n",
    "# You can access these columns as follows: aapl_df['10D_MA'] and msft_df['10D_MA']\n",
    "# Replace these with your actual DataFrame and column names\n",
    "\n",
    "# Generate moving average crossover signals for the short and long moving averages of AAPL and MSFT\n",
    "aapl_signals_10_50 = generate_signals(aapl_df['10D_MA'], short_window, long_window)\n",
    "msft_signals_10_50 = generate_signals(msft_df['10D_MA'], short_window, long_window)\n",
    "\n",
    "# Create DataFrames with the signals\n",
    "aapl_signals_data = pd.DataFrame({\n",
    "    'AAPL_10D_50D_Signal': aapl_signals_10_50\n",
    "})\n",
    "\n",
    "msft_signals_data = pd.DataFrame({\n",
    "    'MSFT_10D_50D_Signal': msft_signals_10_50\n",
    "})\n",
    "\n",
    "# Combine the signals DataFrames with the respective stock DataFrames\n",
    "aapl_df = pd.concat([aapl_df, aapl_signals_data], axis=1)\n",
    "msft_df = pd.concat([msft_df, msft_signals_data], axis=1)\n",
    "\n",
    "# Display the updated DataFrames\n",
    "print(aapl_df)\n",
    "print(msft_df)\n"
   ]
  }
 ],
 "metadata": {
  "kernelspec": {
   "display_name": "Python 3 (ipykernel)",
   "language": "python",
   "name": "python3"
  },
  "language_info": {
   "codemirror_mode": {
    "name": "ipython",
    "version": 3
   },
   "file_extension": ".py",
   "mimetype": "text/x-python",
   "name": "python",
   "nbconvert_exporter": "python",
   "pygments_lexer": "ipython3",
   "version": "3.10.2"
  }
 },
 "nbformat": 4,
 "nbformat_minor": 5
}
